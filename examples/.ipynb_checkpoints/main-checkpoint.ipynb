{
 "cells": [
  {
   "cell_type": "code",
   "execution_count": 8,
   "metadata": {},
   "outputs": [],
   "source": [
    "### Running the base first "
   ]
  },
  {
   "cell_type": "code",
   "execution_count": 9,
   "metadata": {
    "tags": []
   },
   "outputs": [],
   "source": [
    "###############################################################################\n",
    "# // SPDX-License-Identifier: Apache-2.0\n",
    "# // Copyright 2024: Amazon Web Services, Inc. - Contributions from JPMC\n",
    "#\n",
    "###############################################################################\n",
    "\n",
    "\n",
    "import numpy as np\n",
    "import pandas as pd\n",
    "from itertools import product"
   ]
  },
  {
   "cell_type": "code",
   "execution_count": 10,
   "metadata": {
    "tags": []
   },
   "outputs": [],
   "source": [
    "import sys\n",
    "sys.path.append(\"../\")\n",
    "\n",
    "\n",
    "from dcmppln.pipeline import Pipeline\n",
    "\n",
    "from dcmppln.optimizer import GurobiOptimizer\n",
    "\n",
    "\n",
    "from tests.input_data import InputData"
   ]
  },
  {
   "cell_type": "code",
   "execution_count": 11,
   "metadata": {
    "tags": []
   },
   "outputs": [],
   "source": [
    "### Dummy Optimizer \n",
    "\n",
    "input_data = InputData()\n",
    "\n",
    "\n",
    "correlation_matrix,covariance_matrix,full_returns = input_data.data_for_pipeline()\n",
    "p = Pipeline(\n",
    "        correlation_matrix,\n",
    "        covariance_matrix,\n",
    "        full_returns,\n",
    "    )\n",
    "dct = p.run()"
   ]
  },
  {
   "cell_type": "code",
   "execution_count": 12,
   "metadata": {
    "tags": []
   },
   "outputs": [
    {
     "name": "stdout",
     "output_type": "stream",
     "text": [
      "Restricted license - for non-production use only - expires 2025-11-24\n",
      "Read LP format model from file temp.lp\n",
      "Reading time = 0.01 seconds\n",
      "obj: 1 rows, 90 columns, 90 nonzeros\n",
      "Set parameter TimeLimit to value 300\n",
      "Set parameter Threads to value 1\n",
      "Gurobi Optimizer version 11.0.3 build v11.0.3rc0 (linux64 - \"Red Hat Enterprise Linux 8.3 (Ootpa)\")\n",
      "\n",
      "CPU model: AMD EPYC 7R13 Processor, instruction set [SSE2|AVX|AVX2]\n",
      "Thread count: 48 physical cores, 96 logical processors, using up to 1 threads\n",
      "\n",
      "Optimize a model with 1 rows, 90 columns and 90 nonzeros\n",
      "Model fingerprint: 0x76cf1be8\n",
      "Model has 4095 quadratic objective terms\n",
      "Variable types: 0 continuous, 90 integer (90 binary)\n",
      "Coefficient statistics:\n",
      "  Matrix range     [1e+00, 1e+00]\n",
      "  Objective range  [2e-05, 3e-03]\n",
      "  QObjective range [7e-07, 6e-03]\n",
      "  Bounds range     [1e+00, 1e+00]\n",
      "  RHS range        [4e+01, 4e+01]\n",
      "Found heuristic solution: objective 0.2684985\n",
      "Presolve time: 0.03s\n",
      "Presolved: 1 rows, 90 columns, 90 nonzeros\n",
      "Presolved model has 4095 quadratic objective terms\n",
      "Variable types: 0 continuous, 90 integer (90 binary)\n",
      "Found heuristic solution: objective 0.1743180\n",
      "\n",
      "Root relaxation: objective 1.320440e-01, 97 iterations, 0.00 seconds (0.00 work units)\n",
      "\n",
      "    Nodes    |    Current Node    |     Objective Bounds      |     Work\n",
      " Expl Unexpl |  Obj  Depth IntInf | Incumbent    BestBd   Gap | It/Node Time\n",
      "\n",
      "     0     0    0.13204    0    5    0.17432    0.13204  24.3%     -    0s\n",
      "H    0     0                       0.1323776    0.13204  0.25%     -    0s\n",
      "     0     0    0.13204    0    5    0.13238    0.13204  0.25%     -    0s\n",
      "     0     0    0.13221    0    3    0.13238    0.13221  0.12%     -    0s\n",
      "     0     0    0.13232    0    2    0.13238    0.13232  0.04%     -    0s\n",
      "     0     0    0.13232    0    2    0.13238    0.13232  0.04%     -    0s\n",
      "     0     2    0.13235    0    2    0.13238    0.13235  0.02%     -    0s\n",
      "\n",
      "Explored 4 nodes (124 simplex iterations) in 0.05 seconds (0.01 work units)\n",
      "Thread count was 1 (of 96 available processors)\n",
      "\n",
      "Solution count 3: 0.132378 0.174318 0.268499 \n",
      "\n",
      "Optimal solution found (tolerance 1.00e-04)\n",
      "Best objective 1.323775589725e-01, best bound 1.323775589725e-01, gap 0.0000%\n",
      "Objective value with this comm detection algorithm 0.13237755898088116\n",
      "Communities found at level 1:  1\n",
      "0.13237755898088116\n",
      "[1.0 0.0 1.0 0.0 1.0 1.0 1.0 0.0 0.0 1.0 0.0 0.0 0.0 0.0 0.0 0.0 0.0 0.0\n",
      " 0.0 1.0 0.0 1.0 1.0 1.0 1.0 0.0 1.0 1.0 0.0 0.0 1.0 1.0 0.0 0.0 1.0 1.0\n",
      " 0.0 1.0 0.0 1.0 1.0 1.0 1.0 0.0 1.0 0.0 0.0 1.0 0.0 1.0 0.0 0.0 1.0 1.0\n",
      " 1.0 1.0 1.0 1.0 0.0 1.0 0.0 0.0 1.0 0.0 0.0 1.0 0.0 1.0 0.0 0.0 1.0 1.0\n",
      " 0.0 1.0 0.0 1.0 1.0 0.0 0.0 1.0 1.0 0.0 1.0 0.0 0.0 0.0 1.0 0.0 1.0 0.0]\n"
     ]
    }
   ],
   "source": [
    "## If running with Gurobi , then do this\n",
    "\n",
    "input_data = InputData()\n",
    "correlation_matrix,covariance_matrix,full_returns = input_data.data_for_pipeline()\n",
    "p = Pipeline(\n",
    "        correlation_matrix,\n",
    "        covariance_matrix,\n",
    "        full_returns, optimize_func=GurobiOptimizer()  )\n",
    "\n",
    "dct = p.run(run_optimizer=True, )\n",
    "\n",
    "\n",
    "print(dct[\"score\"])\n",
    "print(dct[\"recombined_solution\"])"
   ]
  },
  {
   "cell_type": "code",
   "execution_count": null,
   "metadata": {},
   "outputs": [],
   "source": []
  }
 ],
 "metadata": {
  "kernelspec": {
   "display_name": "simenv",
   "language": "python",
   "name": "simenv"
  },
  "language_info": {
   "codemirror_mode": {
    "name": "ipython",
    "version": 3
   },
   "file_extension": ".py",
   "mimetype": "text/x-python",
   "name": "python",
   "nbconvert_exporter": "python",
   "pygments_lexer": "ipython3",
   "version": "3.9.19"
  }
 },
 "nbformat": 4,
 "nbformat_minor": 4
}
